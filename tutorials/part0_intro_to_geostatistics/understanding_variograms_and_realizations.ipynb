{
 "cells": [
  {
   "cell_type": "markdown",
   "id": "90d365d6-ad4e-4109-954c-4b1cb46f733d",
   "metadata": {},
   "source": [
    "# A very simple demo to explain how the variogram effects stochastic realizations\n",
    "\n",
    "In this simple notebook, we exploit the speed of `PyPestUtils` to help build understanding of how the variogram parameters effect the resulting stochastic fields using interactive plotting #winning"
   ]
  },
  {
   "cell_type": "code",
   "execution_count": null,
   "id": "78a88aba-80be-48d1-b2eb-48bd6d67551f",
   "metadata": {},
   "outputs": [],
   "source": [
    "import sys\n",
    "\n",
    "import matplotlib.pyplot as plt\n",
    "import numpy as np\n",
    "from ipywidgets import interact\n",
    "\n",
    "sys.path.append(\"..\")\n",
    "from pypestutils.pestutilslib import PestUtilsLib\n",
    "\n",
    "lib = PestUtilsLib(logger_level=0)"
   ]
  },
  {
   "cell_type": "markdown",
   "id": "da9d0eee-ebfe-44f8-b230-e2df7ac8fc1e",
   "metadata": {},
   "source": [
    "Just some definitions.  We will use a 100 X 100 grid of nodes with  delx/dely (and an area) of 1."
   ]
  },
  {
   "cell_type": "code",
   "execution_count": null,
   "id": "0a7ec106-37ef-42f2-a9d9-5d0cea29080b",
   "metadata": {},
   "outputs": [],
   "source": [
    "nrow = ncol = 100\n",
    "x = np.cumsum(np.ones((nrow, ncol)), axis=1)\n",
    "y = np.cumsum(np.ones((nrow, ncol)), axis=0)\n",
    "area = 1\n",
    "active = 1\n",
    "mean = 1  # log10 HK mean\n",
    "var = 0.1  # log10 HK variance\n",
    "ec = x.flatten()\n",
    "nc = y.flatten()\n",
    "transtype = 0  # not log transformed\n",
    "vtype = 1  # exponential variogram\n",
    "power = 0\n",
    "nreal = 1"
   ]
  },
  {
   "cell_type": "markdown",
   "id": "d2dca882-8b41-4827-b27f-87c5138a0608",
   "metadata": {},
   "source": [
    "This is the function that will generate one realization and plot it for us, given a correlation length (`aa`), an anisotropy ratio (`anis`), and a `bearing`). A lot of gross plotting code here - feel free to ignore it..."
   ]
  },
  {
   "cell_type": "code",
   "execution_count": null,
   "id": "615acaee-212d-4a08-b3ef-1c690b795307",
   "metadata": {},
   "outputs": [],
   "source": [
    "def plot_real(corrlen, anisotropy, bearing):\n",
    "    fig, axes = plt.subplots(1, 1, figsize=(7, 6))\n",
    "    # use the same random seed each call so that we get \"the same\" realization\n",
    "    lib.initialize_randgen(1123455)\n",
    "    # generate one realization\n",
    "    arrs = lib.fieldgen2d_sva(\n",
    "        ec,\n",
    "        nc,\n",
    "        area,\n",
    "        int(active),\n",
    "        mean,\n",
    "        var,\n",
    "        corrlen,\n",
    "        anisotropy,\n",
    "        bearing,\n",
    "        transtype,\n",
    "        vtype,\n",
    "        power,\n",
    "        nreal,\n",
    "    )\n",
    "    # plot\n",
    "    cb = axes.imshow(arrs[:, 0].reshape((nrow, ncol)), vmin=0.0, vmax=2, cmap=\"magma\")\n",
    "    axes.set_xlabel(\"column\")\n",
    "    axes.set_ylabel(\"row\")\n",
    "    axes.set_title(\"a random realization of HK\", loc=\"left\")\n",
    "    plt.show()\n",
    "    del cb"
   ]
  },
  {
   "cell_type": "markdown",
   "id": "cb1483d1-e062-4567-bd85-715e20f382f9",
   "metadata": {},
   "source": [
    "Move these slowly so it doesn't flicker...\n",
    "\n",
    " - corrlen = the correlation length of the variogram\n",
    " - anisotropy = the anisotropy ratio of the primary to second axes of the anisotropy ellipse\n",
    " - bearing = the angle from north of the primary axis of the anisotropy ellipse"
   ]
  },
  {
   "cell_type": "code",
   "execution_count": null,
   "id": "ffdee08f-9202-42e0-b503-fc135c099337",
   "metadata": {},
   "outputs": [],
   "source": [
    "_ = interact(plot_real, corrlen=(1, 50, 1), anisotropy=(1, 10, 0.5), bearing=(0, 90, 1))"
   ]
  },
  {
   "cell_type": "markdown",
   "id": "7067a7c5-70ed-460f-b1a1-798f0b6943f8",
   "metadata": {},
   "source": [
    "Test your understand:\n",
    "- what happens when the correlation length goes to 1.0 (the grid spacing distance)?  This is why we need to use geostatistics when generating realizations of spatially parameterizations (like grid-scale and pilot point parameters)\n",
    "- What do you think will happen if the correlation length goes to infinity?"
   ]
  },
  {
   "cell_type": "markdown",
   "id": "eba1e58f-48fa-4b48-b268-f3da3d484cf8",
   "metadata": {},
   "source": [
    "# Uncertainty in the uncertainty\n",
    "\n",
    "In practice, how often do we \"know\" the variogram for each property we want to estimate?  Or is a variogram even appropriate to describe the spatial patterns and characteristics of the property?!  These are difficult questions to grapple with in applied groundwater modeling.  However, if we choose to stay with the variogram concept, but acknowledge that concept may itself be subject to some assumptions and, therefore, uncertainty, this leads to the idea that the variogram quantites (i.e. correlation length, anisotropy, and bearing) themselves are also \"uncertain\" and might should be accounted for the inverse/inference problem (by parameterizing them)...and that the uncertainty in those variogram quantities might also be spatially varying.  WAT?!  This is getting deep...these types of situations lead to a hierarchical structure in the inverse/inference problem and these parameters that inform the variogram quantities are typically called \"hyperparameters\".  Whew!\n",
    "\n",
    "`PyPestUtils` implements a form of hierarchical geostatistical simulation (also referred to as nonstationary geostationary geostatistics). To help build some understanding, let's explore what happens when we introduce hyper parameters on the property variogram.  In essence, we are now going to treat the bearing, anisotropy, and correlation length of the above variogram as themselves being described by variograms...Its like geostatistical inception..."
   ]
  },
  {
   "cell_type": "code",
   "execution_count": null,
   "id": "066d8f57-6c0c-4d1f-8112-baff57fc7c9c",
   "metadata": {},
   "outputs": [],
   "source": [
    "nrow = 80\n",
    "ncol = 50\n",
    "x = np.cumsum(np.ones((nrow, ncol)), axis=1)\n",
    "y = np.cumsum(np.ones((nrow, ncol)), axis=0)\n",
    "area = 1\n",
    "active = 1\n",
    "mean = 1  # log10 HK mean\n",
    "var = 0.1  # log10 HK variance\n",
    "ec = x.flatten()\n",
    "nc = y.flatten()\n",
    "transtype = 0  # not log transformed\n",
    "vtype = 1  # exponential variogram\n",
    "power = 0\n",
    "nreal = 1"
   ]
  },
  {
   "cell_type": "markdown",
   "id": "7f24c3aa-ccc3-4786-8c38-6355aa994ec3",
   "metadata": {},
   "source": [
    "A more complex plotting function that treats the property variogram input quantities as geostatistical quanities, each with their own variogram"
   ]
  },
  {
   "cell_type": "code",
   "execution_count": null,
   "id": "4efe47ec-95d4-4644-893b-f240c6385e9a",
   "metadata": {},
   "outputs": [],
   "source": [
    "def plot_real(\n",
    "    b_mean,\n",
    "    b_var,\n",
    "    b_corrlen,\n",
    "    b_anisotropy,\n",
    "    b_bearing,\n",
    "    a_mean,\n",
    "    a_var,\n",
    "    a_corrlen,\n",
    "    a_anisotropy,\n",
    "    a_bearing,\n",
    "    c_mean,\n",
    "    c_var,\n",
    "    c_corrlen,\n",
    "    c_anisotropy,\n",
    "    c_bearing,\n",
    "):\n",
    "    fig, axes = plt.subplots(1, 4, figsize=(10, 3))\n",
    "    # axes.clear()\n",
    "    # reset the random seed so that the underlying pseudo random numbers dont change\n",
    "    lib.initialize_randgen(1123455)\n",
    "    # generate one realization\n",
    "    barr = lib.fieldgen2d_sva(\n",
    "        ec,\n",
    "        nc,\n",
    "        area,\n",
    "        int(active),\n",
    "        b_mean,\n",
    "        b_var,\n",
    "        b_corrlen,\n",
    "        b_anisotropy,\n",
    "        b_bearing,\n",
    "        transtype,\n",
    "        vtype,\n",
    "        power,\n",
    "        nreal,\n",
    "    )\n",
    "\n",
    "    cb = axes[0].imshow(barr[:, 0].reshape((nrow, ncol)), cmap=\"magma\")\n",
    "    plt.colorbar(cb, ax=axes[0])\n",
    "    axes[0].set_title(\"bearing\")\n",
    "\n",
    "    aarr = lib.fieldgen2d_sva(\n",
    "        ec,\n",
    "        nc,\n",
    "        area,\n",
    "        int(active),\n",
    "        a_mean,\n",
    "        a_var,\n",
    "        a_corrlen,\n",
    "        a_anisotropy,\n",
    "        a_bearing,\n",
    "        transtype,\n",
    "        vtype,\n",
    "        power,\n",
    "        nreal,\n",
    "    )\n",
    "\n",
    "    cb = axes[1].imshow(aarr[:, 0].reshape((nrow, ncol)), cmap=\"magma\")\n",
    "    axes[1].set_title(\"aniso\")\n",
    "    plt.colorbar(cb, ax=axes[1])\n",
    "\n",
    "    carr = lib.fieldgen2d_sva(\n",
    "        ec,\n",
    "        nc,\n",
    "        area,\n",
    "        int(active),\n",
    "        c_mean,\n",
    "        c_var,\n",
    "        c_corrlen,\n",
    "        c_anisotropy,\n",
    "        c_bearing,\n",
    "        transtype,\n",
    "        vtype,\n",
    "        power,\n",
    "        nreal,\n",
    "    )\n",
    "\n",
    "    cb = axes[2].imshow(carr[:, 0].reshape((nrow, ncol)), cmap=\"magma\")\n",
    "    axes[2].set_title(\"corrlen\")\n",
    "    plt.colorbar(cb, ax=axes[2])\n",
    "\n",
    "    arrs = lib.fieldgen2d_sva(\n",
    "        ec,\n",
    "        nc,\n",
    "        area,\n",
    "        int(active),\n",
    "        mean,\n",
    "        var,\n",
    "        carr[:, 0],\n",
    "        aarr[:, 0],\n",
    "        barr[:, 0],\n",
    "        transtype,\n",
    "        vtype,\n",
    "        power,\n",
    "        nreal,\n",
    "    )\n",
    "    # plot\n",
    "\n",
    "    cb = axes[3].imshow(\n",
    "        arrs[:, 0].reshape((nrow, ncol)), vmin=0.0, vmax=2, cmap=\"magma\"\n",
    "    )\n",
    "    axes[3].set_title(\"HK\")\n",
    "    plt.colorbar(cb, ax=axes[3])\n",
    "    # $plt.colorbar(cb,ax=axes,label=\"$log_{10}$ HK\")\n",
    "    for ax in axes:\n",
    "        # ax.set_xlabel(\"column\")\n",
    "        # ax.set_ylabel(\"row\")\n",
    "        # ax.set_title(\"a random realization of HK\",loc=\"left\")\n",
    "        ax.set_xticks([])\n",
    "        ax.set_yticks([])\n",
    "\n",
    "    plt.show()"
   ]
  },
  {
   "cell_type": "markdown",
   "id": "77c2cc90-803f-4c6d-b857-045ce0788676",
   "metadata": {},
   "source": [
    "The 'b_' prefix is the for bearing variogram, 'a_' is the anisotropy variogram, and, you guessed it, 'c_' is for the correlation length variogram...This is complex stuff, but we found that these sliders really helped us start to build some intution regarding how these hyper parameters interact...."
   ]
  },
  {
   "cell_type": "code",
   "execution_count": null,
   "id": "2c844dc6-c255-4361-addd-c8ef8e0796de",
   "metadata": {},
   "outputs": [],
   "source": [
    "_ = interact(\n",
    "    plot_real,\n",
    "    b_mean=(0, 90, 1),\n",
    "    b_var=(0.1, 50, 1),\n",
    "    b_corrlen=(1, 100, 10),\n",
    "    b_anisotropy=(1, 10, 0.5),\n",
    "    b_bearing=(0, 90, 1),\n",
    "    a_mean=(1, 10, 1),\n",
    "    a_var=(0.1, 10.0, 0.1),\n",
    "    a_corrlen=(10, 500, 10),\n",
    "    a_anisotropy=(1, 10, 0.5),\n",
    "    a_bearing=(0, 90, 1),\n",
    "    c_mean=(1, 50, 1),\n",
    "    c_var=(0.1, 50.0, 0.1),\n",
    "    c_corrlen=(1, 1000, 10),\n",
    "    c_anisotropy=(1, 50, 1),\n",
    "    c_bearing=(0, 90, 1),\n",
    ")"
   ]
  },
  {
   "cell_type": "markdown",
   "id": "21b5b542-8bb4-48b8-9d25-34dcac93d40e",
   "metadata": {},
   "source": [
    "Start by playing with the \"_mean\" sliders first - these will have the most influence over the resulting `HK` array.\n",
    "\n",
    "As you move these slides, pay attention to how the resulting `HK` array changes - it should become appearent that the relation between the hyper parameters and the resulting `HK` array is highly nonlinear (and this is before even \"running the model\" and trying to estimate property values and posterior uncertainties.  However, you can generate more geologically \"pleasing\" patterns with these hyperparameters.\n",
    "\n",
    "Using these sliders, how could you get back to simple stationary, 2-point geostatistical simulation we explored above?  Well to do this, we need to remove the influence of the spatially varying hyperparameters.  So, if we set the correlation lengths (\"_corrlen\") to large values and the anisotropy (\"_anisotropy\") sliders to small values, we essentially reduce this back to a standard 2-point geostatical simulation.  Try this and then play with the \"_mean\" sliders - the relation between the \"_mean\" sliders and the resulting `HK` arrays now behaves almost exactly like the simple slider widget in the previous example."
   ]
  },
  {
   "cell_type": "code",
   "execution_count": null,
   "id": "d85e0325-afb4-4aa1-a08c-5643017e6513",
   "metadata": {},
   "outputs": [],
   "source": []
  }
 ],
 "metadata": {
  "language_info": {
   "name": "python"
  }
 },
 "nbformat": 4,
 "nbformat_minor": 5
}
