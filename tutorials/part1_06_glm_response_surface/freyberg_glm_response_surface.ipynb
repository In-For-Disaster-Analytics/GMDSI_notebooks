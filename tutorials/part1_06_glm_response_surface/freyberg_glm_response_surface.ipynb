{
 "cells": [
  {
   "cell_type": "markdown",
   "metadata": {},
   "source": [
    "# Gauss-Levenberg-Marquardt (GLM) algorithm\n",
    "\n",
    "The Gauss-Levenberg-Marquart (GLM) method is a derivative-based method used to search the objective function surface for its minimum value. It assumes that simulated values of observation targets vary continuously in response to changes in calibration-adjusted model parameters. \n",
    "\n",
    "However, certain combinations of parameters can provide similar fits to calibration data (as we saw in the \"freyberg k and r\" tutorial, in which we attempt to calibrate a model with two correlated parameters). This phenomenon is refered to as non-uniqueness. For a two-parameter case, this can be visualized as a \"trough\" in the objective function surface. In such cases, there is no single \"minimum\" value for the objective function. #dispair\n",
    "\n",
    "Nevertheless, PEST(++) may obtain a solution to an ill-posed inverse problem and even fit the calibration dataset very well. This occurs due to the addition of the Marquardt lambda to the diagonal of the $J^{t}QJ$ matrix and enables the achievement of a set of parameters which minimize the objective function. However, this parameter set will not be unique. Changing observation weights, initial parameter values, or a different Marquardt lambda selection strategy, may result in an entirely different set of parameters which also minimize the objective function.\n",
    "\n",
    "In practice, this can be avoided by ensuring a well-posed inverse problem. In simple terms, this requires having a greater number of sources of calibration data than the number of adjustable parameters. As we saw in the \"freyberg k, r and flux observations\" tutorial, one option is to include multiple types of observation data which inform different parameter types. (As we will see further on, regularisation provides another.)\n",
    "\n",
    "In this tutorial we are going to visualize the \"objective function surface\" and how the parameter ugrade process moves across it. "
   ]
  },
  {
   "cell_type": "markdown",
   "metadata": {},
   "source": [
    "### Admin\n",
    "We have provided some pre-cooked PEST dataset files, wrapped around the modified Freyberg model. This is the same dataset introduced in the \"freyberg_pest_setup\" and \"freyberg_k\" notebooks. \n",
    "\n",
    "The functions in the next cell import required dependencies and prepare a folder for you. This folder contains the model files and a preliminary PEST setup. Run the cells, then inspect the new folder named \"freyberg_mf6\" which has been created in your tutorial directory. (Just press `shift+enter` to run the cells). "
   ]
  },
  {
   "cell_type": "code",
   "execution_count": 1,
   "metadata": {},
   "outputs": [],
   "source": [
    "import sys\n",
    "import os\n",
    "import warnings\n",
    "warnings.filterwarnings(\"ignore\")\n",
    "warnings.filterwarnings(\"ignore\", category=DeprecationWarning) \n",
    "\n",
    "import pandas as pd\n",
    "import numpy as np\n",
    "import matplotlib.pyplot as plt;\n",
    "import shutil\n",
    "\n",
    "# sys.path.insert(0,os.path.join(\"..\", \"..\", \"dependencies\"))\n",
    "import pyemu\n",
    "import flopy\n",
    "assert \"dependencies\" in flopy.__file__\n",
    "assert \"dependencies\" in pyemu.__file__\n",
    "sys.path.insert(0,\"..\")\n",
    "import herebedragons as hbd\n",
    "import response_surface as resurf\n",
    "\n",
    "plt.rcParams['font.size'] = 10\n",
    "pyemu.plot_utils.font =10"
   ]
  },
  {
   "cell_type": "code",
   "execution_count": 2,
   "metadata": {},
   "outputs": [
    {
     "name": "stdout",
     "output_type": "stream",
     "text": [
      "./mf6\n",
      "                                   MODFLOW 6\n",
      "                U.S. GEOLOGICAL SURVEY MODULAR HYDROLOGIC MODEL\n",
      "                            VERSION 6.6.2 05/12/2025\n",
      "\n",
      "        MODFLOW 6 compiled May 24 2025 11:40:20 with GCC version 12.4.0\n",
      "\n",
      "This software has been approved for release by the U.S. Geological \n",
      "Survey (USGS). Although the software has been subjected to rigorous \n",
      "review, the USGS reserves the right to update the software as needed \n",
      "pursuant to further analysis and review. No warranty, expressed or \n",
      "implied, is made by the USGS or the U.S. Government as to the \n",
      "functionality of the software and related material nor shall the \n",
      "fact of release constitute any such warranty. Furthermore, the \n",
      "software is released on condition that neither the USGS nor the U.S. \n",
      "Government shall be held liable for any damages resulting from its \n",
      "authorized or unauthorized use. Also refer to the USGS Water \n",
      "Resources Software User Rights Notice for complete use, copyright, \n",
      "and distribution information.\n",
      "\n",
      "\n",
      " MODFLOW runs in SEQUENTIAL mode\n",
      "\n",
      " Run start date and time (yyyy/mm/dd hh:mm:ss): 2025/08/03 17:01:53\n",
      "\n",
      " Writing simulation list file: mfsim.lst\n",
      " Using Simulation name file: mfsim.nam\n",
      "\n",
      "    Solving:  Stress period:     1    Time step:     1\n",
      "    Solving:  Stress period:     2    Time step:     1\n",
      "    Solving:  Stress period:     3    Time step:     1\n",
      "    Solving:  Stress period:     4    Time step:     1\n",
      "    Solving:  Stress period:     5    Time step:     1\n",
      "    Solving:  Stress period:     6    Time step:     1\n",
      "    Solving:  Stress period:     7    Time step:     1\n",
      "    Solving:  Stress period:     8    Time step:     1\n",
      "    Solving:  Stress period:     9    Time step:     1\n",
      "    Solving:  Stress period:    10    Time step:     1\n",
      "    Solving:  Stress period:    11    Time step:     1\n",
      "    Solving:  Stress period:    12    Time step:     1\n",
      "    Solving:  Stress period:    13    Time step:     1\n",
      "    Solving:  Stress period:    14    Time step:     1\n",
      "    Solving:  Stress period:    15    Time step:     1\n",
      "    Solving:  Stress period:    16    Time step:     1\n",
      "    Solving:  Stress period:    17    Time step:     1\n",
      "    Solving:  Stress period:    18    Time step:     1\n",
      "    Solving:  Stress period:    19    Time step:     1\n",
      "    Solving:  Stress period:    20    Time step:     1\n",
      "    Solving:  Stress period:    21    Time step:     1\n",
      "    Solving:  Stress period:    22    Time step:     1\n",
      "    Solving:  Stress period:    23    Time step:     1\n",
      "    Solving:  Stress period:    24    Time step:     1\n",
      "    Solving:  Stress period:    25    Time step:     1\n",
      "\n",
      " Run end date and time (yyyy/mm/dd hh:mm:ss): 2025/08/03 17:01:53\n",
      " Elapsed run time:  0.176 Seconds\n",
      "\n",
      " Normal termination of simulation.\n",
      "./mp7 freyberg_mp.mpsim\n",
      "\n",
      "MODPATH Version 7.2.001   \n",
      "Program compiled May 24 2025 11:43:33 with GFORTRAN compiler (ver. 12.4.0)      \n",
      "\n",
      "\n",
      "Run particle tracking simulation ...\n",
      "Processing Time Step     1 Period     1.  Time =  3.65250E+03  Steady-state flow                                                    \n",
      "Processing Time Step     1 Period     2.  Time =  3.68350E+03  Steady-state flow                                                    \n",
      "Processing Time Step     1 Period     3.  Time =  3.71250E+03  Steady-state flow                                                    \n",
      "Processing Time Step     1 Period     4.  Time =  3.74350E+03  Steady-state flow                                                    \n",
      "Processing Time Step     1 Period     5.  Time =  3.77350E+03  Steady-state flow                                                    \n",
      "Processing Time Step     1 Period     6.  Time =  3.80450E+03  Steady-state flow                                                    \n",
      "Processing Time Step     1 Period     7.  Time =  3.83450E+03  Steady-state flow                                                    \n",
      "Processing Time Step     1 Period     8.  Time =  3.86550E+03  Steady-state flow                                                    \n",
      "Processing Time Step     1 Period     9.  Time =  3.89650E+03  Steady-state flow                                                    \n",
      "Processing Time Step     1 Period    10.  Time =  3.92650E+03  Steady-state flow                                                    \n",
      "Processing Time Step     1 Period    11.  Time =  3.95750E+03  Steady-state flow                                                    \n",
      "Processing Time Step     1 Period    12.  Time =  3.98750E+03  Steady-state flow                                                    \n",
      "Processing Time Step     1 Period    13.  Time =  4.01850E+03  Steady-state flow                                                    \n",
      "Processing Time Step     1 Period    14.  Time =  4.04950E+03  Steady-state flow                                                    \n",
      "Processing Time Step     1 Period    15.  Time =  4.07750E+03  Steady-state flow                                                    \n",
      "Processing Time Step     1 Period    16.  Time =  4.10850E+03  Steady-state flow                                                    \n",
      "Processing Time Step     1 Period    17.  Time =  4.13850E+03  Steady-state flow                                                    \n",
      "Processing Time Step     1 Period    18.  Time =  4.16950E+03  Steady-state flow                                                    \n",
      "Processing Time Step     1 Period    19.  Time =  4.19950E+03  Steady-state flow                                                    \n",
      "Processing Time Step     1 Period    20.  Time =  4.23050E+03  Steady-state flow                                                    \n",
      "Processing Time Step     1 Period    21.  Time =  4.26150E+03  Steady-state flow                                                    \n",
      "Processing Time Step     1 Period    22.  Time =  4.29150E+03  Steady-state flow                                                    \n",
      "Processing Time Step     1 Period    23.  Time =  4.32250E+03  Steady-state flow                                                    \n",
      "Processing Time Step     1 Period    24.  Time =  4.35250E+03  Steady-state flow                                                    \n",
      "Processing Time Step     1 Period    25.  Time =  4.38350E+03  Steady-state flow                                                    \n",
      "\n",
      "Particle Summary:\n",
      "         0 particles are pending release.\n",
      "         0 particles remain active.\n",
      "         0 particles terminated at boundary faces.\n",
      "         0 particles terminated at weak sink cells.\n",
      "         0 particles terminated at weak source cells.\n",
      "         1 particles terminated at strong source/sink cells.\n",
      "         0 particles terminated in cells with a specified zone number.\n",
      "         0 particles were stranded in inactive or dry cells.\n",
      "         0 particles were unreleased.\n",
      "         0 particles have an unknown status.\n",
      " \n",
      "Normal termination.                                                        \n",
      "./inschek heads.csv.ins heads.csv\n",
      " INSCHEK Version 13.0. Watermark Numerical Computing.\n",
      "\n",
      " Errors in file heads.csv.ins ----->\n",
      " No errors encountered.\n",
      " \n",
      " Reading model output file heads.csv ----->\n",
      " No errors encountered.\n",
      " \n",
      " 325 observations identified in file heads.csv.ins: these are listed in file \n",
      "   heads.csv.obf together with their values as read from file heads.csv.\n",
      " \n",
      "ins file for heads.csv prepared.\n",
      "./inschek sfr.csv.ins sfr.csv\n",
      " INSCHEK Version 13.0. Watermark Numerical Computing.\n",
      "\n",
      " Errors in file sfr.csv.ins ----->\n",
      " No errors encountered.\n",
      " \n",
      " Reading model output file sfr.csv ----->\n",
      " No errors encountered.\n",
      " \n",
      " 75 observations identified in file sfr.csv.ins: these are listed in file \n",
      "   sfr.csv.obf together with their values as read from file sfr.csv.\n",
      " \n",
      "ins file for sfr.csv prepared.\n",
      "chmod 777 runmodel.sh\n",
      "noptmax:0, npar_adj:1, nnz_obs:24\n",
      "written pest control file: freyberg_mf6/freyberg.pst\n"
     ]
    }
   ],
   "source": [
    "# folder containing original model files\n",
    "org_d = os.path.join('..', '..', 'models', 'monthly_model_files_1lyr_newstress')\n",
    "# a dir to hold a copy of the org model files\n",
    "tmp_d = os.path.join('freyberg_mf6')\n",
    "\n",
    "\n",
    "run_response_surfaces = True\n",
    "\n",
    "if run_response_surfaces==False:\n",
    "    print('Assuming PEST++SWP has bene run already and the folder with files is available')\n",
    "else:\n",
    "    if os.path.exists(tmp_d):\n",
    "        shutil.rmtree(tmp_d)\n",
    "    shutil.copytree(org_d,tmp_d)\n",
    "    # get executables\n",
    "    hbd.prep_bins(tmp_d)\n",
    "    # get dependency folders\n",
    "    hbd.prep_deps(tmp_d)\n",
    "    # run our convenience functions to prepare the PEST and model folder\n",
    "    hbd.prep_pest(tmp_d)"
   ]
  },
  {
   "cell_type": "markdown",
   "metadata": {},
   "source": [
    "### Reminder - the modified-Freyberg model\n",
    "Just a quick reminder of what the model looks like and what we are doing. \n",
    "\n",
    "It is a one-layer model. A river runs north-south, represented with the SFR package (green cells in the figure). On the southern border there is a GHB (cyan cells). No-flow cells are shown in black. Pumping wells are shown with red cells. \n",
    "\n",
    "Time-series of measured heads are available at the locations marked with black X's. River flux is also measured at three locations (headwater, tailwater and gage; not displayed).\n",
    "\n",
    "The simulation starts with a steady state stress period, followed by twelve transient stress periods. These represent the historic period, for which measured data are available.\n",
    "\n",
    "A subsequent twelve transient stress periods representing a period in the future. Modelling is undertaken to assess selected forecasts during the simulated period."
   ]
  },
  {
   "cell_type": "code",
   "execution_count": 3,
   "metadata": {},
   "outputs": [
    {
     "data": {
      "image/png": "[encoded data removed]",
      "text/plain": [
       "<Figure size 1000x700 with 3 Axes>"
      ]
     },
     "metadata": {},
     "output_type": "display_data"
    }
   ],
   "source": [
    "hbd.plot_freyberg(tmp_d)"
   ]
  },
  {
   "cell_type": "markdown",
   "metadata": {},
   "source": [
    "### The PEST Control File\n",
    "\n",
    "You may  wish to explore the `freyberg_mf6` folder which has been created in the tutorial directory. In it you will find a PEST control file named `freyberg.pst`.\n",
    "\n",
    "Let's use `pyemu` to load the PEST control file and check some details. "
   ]
  },
  {
   "cell_type": "code",
   "execution_count": 4,
   "metadata": {},
   "outputs": [
    {
     "data": {
      "text/plain": [
       "['hk1', 'ne1', 'rch0', 'rch1']"
      ]
     },
     "execution_count": 4,
     "metadata": {},
     "output_type": "execute_result"
    }
   ],
   "source": [
    "pst = pyemu.Pst(os.path.join(tmp_d, 'freyberg.pst'))\n",
    "pst.par_names"
   ]
  },
  {
   "cell_type": "code",
   "execution_count": 5,
   "metadata": {},
   "outputs": [
    {
     "data": {
      "text/html": [
       "<div>\n",
       "<style scoped>\n",
       "    .dataframe tbody tr th:only-of-type {\n",
       "        vertical-align: middle;\n",
       "    }\n",
       "\n",
       "    .dataframe tbody tr th {\n",
       "        vertical-align: top;\n",
       "    }\n",
       "\n",
       "    .dataframe thead th {\n",
       "        text-align: right;\n",
       "    }\n",
       "</style>\n",
       "<table border=\"1\" class=\"dataframe\">\n",
       "  <thead>\n",
       "    <tr style=\"text-align: right;\">\n",
       "      <th></th>\n",
       "      <th>parnme</th>\n",
       "      <th>partrans</th>\n",
       "      <th>parchglim</th>\n",
       "      <th>parval1</th>\n",
       "      <th>parlbnd</th>\n",
       "      <th>parubnd</th>\n",
       "      <th>pargp</th>\n",
       "      <th>scale</th>\n",
       "      <th>offset</th>\n",
       "      <th>extra</th>\n",
       "      <th>dercom</th>\n",
       "    </tr>\n",
       "    <tr>\n",
       "      <th>parnme</th>\n",
       "      <th></th>\n",
       "      <th></th>\n",
       "      <th></th>\n",
       "      <th></th>\n",
       "      <th></th>\n",
       "      <th></th>\n",
       "      <th></th>\n",
       "      <th></th>\n",
       "      <th></th>\n",
       "      <th></th>\n",
       "      <th></th>\n",
       "    </tr>\n",
       "  </thead>\n",
       "  <tbody>\n",
       "    <tr>\n",
       "      <th>hk1</th>\n",
       "      <td>hk1</td>\n",
       "      <td>log</td>\n",
       "      <td>factor</td>\n",
       "      <td>5.00</td>\n",
       "      <td>0.050</td>\n",
       "      <td>500.00</td>\n",
       "      <td>hk</td>\n",
       "      <td>1.0</td>\n",
       "      <td>0.0</td>\n",
       "      <td>NaN</td>\n",
       "      <td>1.0</td>\n",
       "    </tr>\n",
       "    <tr>\n",
       "      <th>ne1</th>\n",
       "      <td>ne1</td>\n",
       "      <td>fixed</td>\n",
       "      <td>factor</td>\n",
       "      <td>0.01</td>\n",
       "      <td>0.005</td>\n",
       "      <td>0.02</td>\n",
       "      <td>porosity</td>\n",
       "      <td>1.0</td>\n",
       "      <td>0.0</td>\n",
       "      <td>NaN</td>\n",
       "      <td>1.0</td>\n",
       "    </tr>\n",
       "    <tr>\n",
       "      <th>rch0</th>\n",
       "      <td>rch0</td>\n",
       "      <td>fixed</td>\n",
       "      <td>factor</td>\n",
       "      <td>1.00</td>\n",
       "      <td>0.500</td>\n",
       "      <td>2.00</td>\n",
       "      <td>rch0</td>\n",
       "      <td>1.0</td>\n",
       "      <td>0.0</td>\n",
       "      <td>NaN</td>\n",
       "      <td>1.0</td>\n",
       "    </tr>\n",
       "    <tr>\n",
       "      <th>rch1</th>\n",
       "      <td>rch1</td>\n",
       "      <td>fixed</td>\n",
       "      <td>factor</td>\n",
       "      <td>1.00</td>\n",
       "      <td>0.500</td>\n",
       "      <td>2.00</td>\n",
       "      <td>rch1</td>\n",
       "      <td>1.0</td>\n",
       "      <td>0.0</td>\n",
       "      <td>NaN</td>\n",
       "      <td>1.0</td>\n",
       "    </tr>\n",
       "  </tbody>\n",
       "</table>\n",
       "</div>"
      ],
      "text/plain": [
       "       parnme partrans parchglim  parval1  parlbnd  parubnd     pargp  scale  \\\n",
       "parnme                                                                         \n",
       "hk1       hk1      log    factor     5.00    0.050   500.00        hk    1.0   \n",
       "ne1       ne1    fixed    factor     0.01    0.005     0.02  porosity    1.0   \n",
       "rch0     rch0    fixed    factor     1.00    0.500     2.00      rch0    1.0   \n",
       "rch1     rch1    fixed    factor     1.00    0.500     2.00      rch1    1.0   \n",
       "\n",
       "        offset  extra  dercom  \n",
       "parnme                         \n",
       "hk1        0.0    NaN     1.0  \n",
       "ne1        0.0    NaN     1.0  \n",
       "rch0       0.0    NaN     1.0  \n",
       "rch1       0.0    NaN     1.0  "
      ]
     },
     "execution_count": 5,
     "metadata": {},
     "output_type": "execute_result"
    }
   ],
   "source": [
    "par = pst.parameter_data\n",
    "par"
   ]
  },
  {
   "cell_type": "markdown",
   "metadata": {},
   "source": [
    "We shall explore the effect of having two adjustable parameters: `hk1` and `rch0`. As we saw previously, these two parameters are correlated. If we use only head observations for calibration we are unable to achive a unique solution. \n",
    "\n",
    "(We shall change `hk1` parameter bounds just to make visualization easier.)"
   ]
  },
  {
   "cell_type": "code",
   "execution_count": 6,
   "metadata": {},
   "outputs": [],
   "source": [
    "par.loc['rch0', 'partrans'] = 'log'\n",
    "par.loc['hk1', 'parlbnd'] = 1.5\n",
    "par.loc['hk1', 'parubnd'] = 15"
   ]
  },
  {
   "cell_type": "markdown",
   "metadata": {},
   "source": [
    "Re-write the control file:"
   ]
  },
  {
   "cell_type": "code",
   "execution_count": 7,
   "metadata": {},
   "outputs": [
    {
     "name": "stdout",
     "output_type": "stream",
     "text": [
      "noptmax:0, npar_adj:2, nnz_obs:24\n"
     ]
    }
   ],
   "source": [
    "pst.write(os.path.join(tmp_d, 'freyberg.pst'),version=2)"
   ]
  },
  {
   "cell_type": "markdown",
   "metadata": {},
   "source": [
    "The `response_surface.py` file in the tutorial folder contains a few functions to run PEST++SWP and make plots. These run PEST++SWP a few hundred times for a combination of `hk1` and `rch0` values.\n",
    "\n",
    "As with the other notebooks that run modflow in parallel, please change the number of workers to be in harmony with your computer!"
   ]
  },
  {
   "cell_type": "code",
   "execution_count": 8,
   "metadata": {},
   "outputs": [],
   "source": [
    "num_workers=20"
   ]
  },
  {
   "cell_type": "code",
   "execution_count": null,
   "metadata": {},
   "outputs": [
    {
     "name": "stdout",
     "output_type": "stream",
     "text": [
      "noptmax:0, npar_adj:2, nnz_obs:24\n",
      "\n",
      "\n",
      "             pestpp-swp - a parametric sweep utility, version 5.2.21\n",
      "                     for PEST(++) datasets \n",
      "\n",
      "                 by the PEST++ development team\n",
      "\n",
      "\n",
      "...processing command line: ' ./pestpp-swp freyberg.pst /h :4004'\n",
      "...using panther run manager in master mode using port 4004\n",
      "\n",
      "\n",
      "\n",
      "version: 5.2.21\n",
      "binary compiled on Aug  3 2025 at 12:30:06\n",
      "\n",
      "started at 08/03/25 17:02:38\n",
      "using control file: \"freyberg.pst\"\n",
      "\n",
      "in directory: \"/Users/jwhite/Dev/GMDSI_notebooks/tutorials/part1_06_glm_response_surface/gw_only_respsurf\"\n",
      "on host: \"jwhites-MacBook-Pro.local\"\n",
      "\n",
      "processing control file freyberg.pst\n",
      "Note: 3 unused lines in pest control file, see rec file...\n",
      "noptmax = 0, resetting max_run_fail = 1\n",
      "\n",
      "\n",
      ":~-._                                                 _.-~:\n",
      ": :.~^o._        ________---------________        _.o^~.:.:\n",
      " : ::.`?88booo~~~.::::::::...::::::::::::..~~oood88P'.::.:\n",
      " :  ::: `?88P .:::....         ........:::::. ?88P' :::. :\n",
      "  :  :::. `? .::.            . ...........:::. P' .:::. :\n",
      "   :  :::   ... ..  ...       .. .::::......::.   :::. :\n",
      "   `  :' .... ..  .:::::.     . ..:::::::....:::.  `: .'\n",
      "    :..    ____:::::::::.  . . ....:::::::::____  ... :\n",
      "   :... `:~    ^~-:::::..  .........:::::-~^    ~::.::::\n",
      "   `.::. `\\   (8)  \\b:::..::.:.:::::::d/  (8)   /'.::::'\n",
      "    ::::.  ~-._v    |b.::::::::::::::d|    v_.-~..:::::\n",
      "    `.:::::... ~~^?888b..:::::::::::d888P^~...::::::::'\n",
      "     `.::::::::::....~~~ .:::::::::~~~:::::::::::::::'\n",
      "      `..:::::::::::   .   ....::::    ::::::::::::,'\n",
      "        `. .:::::::    .      .::::.    ::::::::'.'\n",
      "          `._ .:::    .        :::::.    :::::_.'\n",
      "             `-. :    .        :::::      :,-'\n",
      "                :.   :___     .:::___   .::\n",
      "      ..--~~~~--:+::. ~~^?b..:::dP^~~.::++:--~~~~--..\n",
      "        ___....--`+:::.    `~8~'    .:::+'--....___\n",
      "      ~~   __..---`_=:: ___gd8bg___ :==_'---..__   ~~\n",
      "       -~~~  _.--~~`-.~~~~~~~~~~~~~~~,-' ~~--._ ~~~-\n",
      "\n",
      "\n",
      "               starting PANTHER master...\n",
      "\n",
      "IP addresses:\n",
      "  0.0.0.0:4004 (IPv4)\n",
      "\n",
      "PANTHER master listening on socket: 0.0.0.0:4004 (IPv4)\n",
      "  ---  csv file detected for par_csv\n",
      "reading par values...\n",
      "done\n",
      "starting runs 0 --> 500\n",
      "    running model 500 times\n",
      "    starting at 08/03/25 17:02:38\n",
      "\n",
      "    waiting for agents to appear...\n",
      "\n",
      "\n",
      "PANTHER progress\n",
      "   avg = average model run time in minutes\n",
      "   runs(C = completed | F = failed | T = timed out)\n",
      "   agents(R = running | W = waiting | U = unavailable)\n",
      "--------------------------------------------------------------------------------\n",
      "08/03 17:03:24 remaining file transfers: 0|T0    ) agents(R1   |W19  |U0   ) 0  \n",
      "\n",
      "   500 runs complete :  0 runs failed\n",
      "   0.0266 avg run time (min) : 0.769 run mgr time (min)\n",
      "   20 agents connected\n",
      "\n",
      "\n",
      "processing runs...done\n",
      "reading par values...\n",
      "done\n",
      "starting runs 500 --> 1000\n",
      "    running model 500 times\n",
      "    starting at 08/03/25 17:03:24\n",
      "    20 agents ready\n",
      "\n",
      "\n",
      "PANTHER progress\n",
      "   avg = average model run time in minutes\n",
      "   runs(C = completed | F = failed | T = timed out)\n",
      "   agents(R = running | W = waiting | U = unavailable)\n",
      "--------------------------------------------------------------------------------\n",
      "08/03 17:03:38 mn:0.026 runs(C161  |F0    |T0    ) agents(R20  |W0   |U0   ) 0  "
     ]
    }
   ],
   "source": [
    "gw_respsurf_d = \"gw_only_respsurf\"\n",
    "if run_response_surfaces==False:\n",
    "    print('Assuming PEST++SWP has bene run already and the folder with files is available')\n",
    "else:\n",
    "    if os.path.exists(gw_respsurf_d):\n",
    "        shutil.rmtree(gw_respsurf_d)\n",
    "    shutil.copytree(tmp_d,gw_respsurf_d)\n",
    "    resurf.run_respsurf(par_names=['hk1','rch0'],WORKING_DIR=gw_respsurf_d,num_workers=num_workers)"
   ]
  },
  {
   "cell_type": "markdown",
   "metadata": {},
   "source": [
    "Make a plot of the response surface for `hk1` (x-axis) and `rch0` (y-axis). The colored contours indicate the objective function value for each combination of these two parameters. \n",
    "\n",
    "As you can see, a long eliptical \"trough of dispair\" of optimal values is formed. Parameter combinations in this zone all result in equivalent levels of \"good fit\" to the observation dataset.  The trough of dispair is an example of non-uniqueness in graphically form.  A problem that arises is while many combinations of recharge and HK can fit the observation dataset, the forecasts of interest model with \"calibrated\" model could be highly sensitive to the value of HK and/or recharge and single \"calibrated\" model cant represent this non-uniqueness under forecasting conditions.  #uncertaintyanalysis"
   ]
  },
  {
   "cell_type": "code",
   "execution_count": null,
   "metadata": {},
   "outputs": [],
   "source": [
    "fig, ax, resp_surf = resurf.plot_response_surface(figsize=(7,7),WORKING_DIR=gw_respsurf_d,\n",
    "                                                  title=\"Only groundwater level observations in $\\\\Phi$\") #maxresp=1e3,"
   ]
  },
  {
   "cell_type": "markdown",
   "metadata": {},
   "source": [
    "### Add Flux Observations\n",
    "\n",
    "As we did in the \"freyberg k, r and flux obs\" tutorial, we know add a second set of observation data. These are measurments of stream flow. We now have observations of head and observations of stream flow"
   ]
  },
  {
   "cell_type": "code",
   "execution_count": null,
   "metadata": {},
   "outputs": [],
   "source": [
    "pst = pyemu.Pst(os.path.join(tmp_d, 'freyberg.pst'))"
   ]
  },
  {
   "cell_type": "code",
   "execution_count": null,
   "metadata": {},
   "outputs": [],
   "source": [
    "# set weights to gage-1 observations during calibration period\n",
    "obs = pst.observation_data\n",
    "obs_times = obs.loc[~obs['gage-1'].isnull(), 'gage-1'].astype(float).values\n",
    "calib_times = [str(i) for i in obs_times if i<4018.5]\n",
    "obs.loc[obs['gage-1'].isin(calib_times), 'weight'] = 0.003"
   ]
  },
  {
   "cell_type": "markdown",
   "metadata": {},
   "source": [
    "Re-write the control file."
   ]
  },
  {
   "cell_type": "code",
   "execution_count": null,
   "metadata": {},
   "outputs": [],
   "source": [
    "pst.write(os.path.join(tmp_d, 'freyberg.pst'),version=2)"
   ]
  },
  {
   "cell_type": "markdown",
   "metadata": {},
   "source": [
    "Run PEST++SWP again to recalculate the response surface."
   ]
  },
  {
   "cell_type": "code",
   "execution_count": null,
   "metadata": {},
   "outputs": [],
   "source": [
    "bal_respsurf_d = \"bal_respsurf\"\n",
    "if run_response_surfaces==False:\n",
    "    print('Assuming PEST++SWP has been run already and the folder with files is available')\n",
    "else:\n",
    "    if os.path.exists(bal_respsurf_d):\n",
    "        shutil.rmtree(bal_respsurf_d)\n",
    "    shutil.copytree(tmp_d,bal_respsurf_d)\n",
    "    resurf.run_respsurf(par_names=['hk1','rch0'],WORKING_DIR=bal_respsurf_d,num_workers=num_workers)"
   ]
  },
  {
   "cell_type": "markdown",
   "metadata": {},
   "source": [
    "And plot it up again. Now we see the objective function surface funneling down to a single point. We have achieved a unique solution.  The \"trough of dispair\" has been the \"bowl of uniqueness\"!  A clear demonstration of the value of unique and diverse data..."
   ]
  },
  {
   "cell_type": "code",
   "execution_count": null,
   "metadata": {},
   "outputs": [],
   "source": [
    "fig, ax, resp_surf = resurf.plot_response_surface(figsize=(7,7),WORKING_DIR=bal_respsurf_d,\n",
    "                                                 title=\"Groundwater level and streamflow observations in $\\\\Phi$\") #maxresp=1e3,"
   ]
  },
  {
   "cell_type": "markdown",
   "metadata": {},
   "source": [
    "# How weights change the response surface\n",
    "\n",
    "We can think of adding observations as the extreme case of changing weights from zero to not zero. So lets do one last last response surface run, where we skew the objective function to mostly composed of surface water flow observations - we will do this by increasing the weight on those observations:"
   ]
  },
  {
   "cell_type": "code",
   "execution_count": null,
   "metadata": {},
   "outputs": [],
   "source": [
    "# obs = pst.observation_data\n",
    "# for grp in pst.nnz_obs_groups:\n",
    "#     if \"gage\" not in grp:\n",
    "#         continue\n",
    "#     oobs = obs.loc[obs.obgnme==grp,:]\n",
    "#     oobs = oobs.loc[oobs.weight>0,:]\n",
    "#     mn = oobs.obsval.mean()\n",
    "#     lower_names = oobs.loc[oobs.obsval<mn,\"obsnme\"]\n",
    "#     assert len(lower_names) > 0\n",
    "#     obs.loc[lower_names,\"weight\"] = 100\n",
    "obs = pst.observation_data\n",
    "obs_times = obs.loc[~obs['gage-1'].isnull(), 'gage-1'].astype(float).values\n",
    "calib_times = [str(i) for i in obs_times if i<4018.5]\n",
    "ovals = obs.loc[obs['gage-1'].isin(calib_times), 'obsval']\n",
    "obs.loc[obs['gage-1'].isin(calib_times), 'weight'] = 1./(ovals*0.01)\n",
    "pst.write(os.path.join(tmp_d, 'freyberg.pst'),version=2)\n",
    "imbal_respsurf_d = \"imbal_respsurf\"\n",
    "\n",
    "if run_response_surfaces==False:\n",
    "    print('Assuming PEST++SWP has been run already and the folder with files is available')\n",
    "else:\n",
    "    if os.path.exists(imbal_respsurf_d):\n",
    "        shutil.rmtree(imbal_respsurf_d)\n",
    "    shutil.copytree(tmp_d,imbal_respsurf_d)\n",
    "    resurf.run_respsurf(par_names=['hk1','rch0'],WORKING_DIR=imbal_respsurf_d,num_workers=num_workers)"
   ]
  },
  {
   "cell_type": "code",
   "execution_count": null,
   "metadata": {},
   "outputs": [],
   "source": [
    "fig, ax, resp_surf = resurf.plot_response_surface(figsize=(7,7),WORKING_DIR=imbal_respsurf_d,\n",
    "                                                 title=\"Streamflow-focused $\\\\Phi$\") #maxresp=1e3,"
   ]
  },
  {
   "cell_type": "code",
   "execution_count": null,
   "metadata": {},
   "outputs": [],
   "source": [
    "fig,axes = plt.subplots(1,3,figsize=(12,4))\n",
    "_ = resurf.plot_response_surface(WORKING_DIR=gw_respsurf_d,\n",
    "                                                  title=\"Only groundwater level observations\\n in $\\\\Phi$\",ax=axes[0]) #maxresp=1e3,\n",
    "\n",
    "_ = resurf.plot_response_surface(WORKING_DIR=bal_respsurf_d,ax=axes[1],\n",
    "                                                 title=\"Groundwater level and streamflow\\n observations in $\\\\Phi$\") #maxresp=1e3,\n",
    "_ = resurf.plot_response_surface(figsize=(7,7),WORKING_DIR=imbal_respsurf_d,ax=axes[2],\n",
    "                                                 title=\"Streamflow-focused $\\\\Phi$\") #maxresp=1e3,\n",
    "plt.tight_layout()\n",
    "plt.savefig(\"respsurf_combined.pdf\")\n",
    "plt.show()\n",
    "plt.close(fig)"
   ]
  },
  {
   "cell_type": "markdown",
   "metadata": {},
   "source": [
    "# Understanding Lambdas\n",
    "\n",
    "When used to undertake highly parameterized inversion, PESTPP-GLM implements theory and methodologies that are programmed into PEST. Some theory, employing matrices and vectors, is used to describe the linearized inverse problem on which so-called “gradient methods” are based. Through repeated linearization of the inverse problem over successive iterations, these methods achieve their purpose of model calibration, notwithstanding the nonlinear relationship that exists between model outputs and model parameters.  It should also be noted that PESTPP-IES also implements the GLM solution, but an ensemble of parameter vectors.  So the single trajectory below can be thought of as one of the many tradjectories that ensemble of parameter vectors take.\n",
    "\n",
    "Nonlinear model behaviour is also accommodated by introducing a so-called \"Marquardt lambda\" to these equations. Employing a nonzero lambda tweaks the direction of parameter improvement so that it is more aligned with the objective function gradient. This increases the efficiency of early iterations of the inversion process when implemented in conjunction with a nonlinear model.\n",
    "\n",
    "If Lambdas are high, then the parameter estimation process updates parameter values accodring to the objective function gradient. If they are small (or zero), parameter upgrades receive a greater influence from the $J^{t}QJ$ matrix. \n",
    "\n",
    "Highy non-linear problems, in particular, benefit from high lambdas at the start of the parameter estimation process. This accomodates non-elipticity of the objective function surface, avoiding sending the parameter estimation process in the \"wrong direction\" and wasting computation time. \n",
    "\n",
    "However, as the objective function minimum is approached, the process becomes more eficient if smaller lambdas are used. This avoids the phenomenon known as \"hemstitching\", in which parameter upgrades jump-across small, thin \"troughs\" in the objective function surface. \n",
    "\n",
    "Note again, the effect of lambda on the parameter upgrade is the same in PESTPP-IES.\n",
    "\n",
    "See the PEST Book (Doherty, 2015) and the PEST++ users manual for more details."
   ]
  },
  {
   "cell_type": "markdown",
   "metadata": {},
   "source": [
    "### No Lambda\n",
    "\n",
    "Let's visualize the effect of lambda values on the upgrade process. First, with no lambda added to the parameter upgrade equations."
   ]
  },
  {
   "cell_type": "code",
   "execution_count": null,
   "metadata": {},
   "outputs": [],
   "source": [
    "# turn off the Maquardt lambda\n",
    "pst.pestpp_options['lambdas']=0.0\n",
    "pst.pestpp_options['lambda_scale_fac']=1.0\n",
    "pst.pestpp_options['upgrade_augment']='False'\n",
    "# set weights to gage-1 observations during calibration period\n",
    "obs = pst.observation_data\n",
    "obs_times = obs.loc[~obs['gage-1'].isnull(), 'gage-1'].astype(float).values\n",
    "calib_times = [str(i) for i in obs_times if i<4018.5]\n",
    "obs.loc[obs['gage-1'].isin(calib_times), 'weight'] = 0.003\n",
    "par = pst.parameter_data\n",
    "pst.control_data.facparmax = 10000\n",
    "pst.control_data.relparmax = 10000"
   ]
  },
  {
   "cell_type": "markdown",
   "metadata": {},
   "source": [
    "Initial parameter values specify where the parameter estimation process \"starts\":"
   ]
  },
  {
   "cell_type": "code",
   "execution_count": null,
   "metadata": {},
   "outputs": [],
   "source": [
    "# to make a more compeling plotc\n",
    "pst.parameter_data.loc['hk1', 'parval1'] = 14.5\n",
    "pst.parameter_data.loc['rch0', 'parval1'] = 1.99"
   ]
  },
  {
   "cell_type": "markdown",
   "metadata": {},
   "source": [
    "Write and run:"
   ]
  },
  {
   "cell_type": "code",
   "execution_count": null,
   "metadata": {},
   "outputs": [],
   "source": [
    "pst.control_data.noptmax=250\n",
    "pst.write(os.path.join(tmp_d, 'freyberg.nolam.pst'),version=2)\n",
    "working_d = \"glm_nolam\"\n",
    "\n",
    "if os.path.exists(working_d):\n",
    "    shutil.rmtree(working_d)\n",
    "shutil.copytree(tmp_d,working_d)\n",
    "pyemu.os_utils.run('pestpp-glm freyberg.nolam.pst', cwd=working_d)"
   ]
  },
  {
   "cell_type": "markdown",
   "metadata": {},
   "source": [
    "Plot the response surface:"
   ]
  },
  {
   "cell_type": "code",
   "execution_count": null,
   "metadata": {},
   "outputs": [],
   "source": [
    "fig, ax, resp_surf = resurf.plot_response_surface(figsize=(7,7),WORKING_DIR=bal_respsurf_d) #maxresp=1e3,\n",
    "pars, obfun = resurf.add_trajectory_to_plot(fig, ax, 'Trajectory with no $\\\\lambda$', pst_name='freyberg.nolam.pst',working_dir=working_d)"
   ]
  },
  {
   "cell_type": "code",
   "execution_count": null,
   "metadata": {},
   "outputs": [],
   "source": [
    "df_obj = pd.read_csv(os.path.join(working_d, \"freyberg.nolam.iobj\"), index_col=0)\n",
    "df_obj.loc[:,[\"total_phi\",\"model_runs_completed\"]].plot(subplots=True, marker='x')"
   ]
  },
  {
   "cell_type": "markdown",
   "metadata": {},
   "source": [
    "### Moderate Lambda"
   ]
  },
  {
   "cell_type": "code",
   "execution_count": null,
   "metadata": {},
   "outputs": [],
   "source": [
    "# set a moderate lambda value\n",
    "pst.pestpp_options['lambdas']=700.0\n",
    "pst.pestpp_options['lambda_scale_fac']=1.0\n",
    "pst.pestpp_options['upgrade_augment']='False'\n",
    "\n",
    "pst.write(os.path.join(tmp_d, 'freyberg.modlam.pst'),version=2)\n",
    "working_d = \"glm_modlam\"\n",
    "\n",
    "\n",
    "if os.path.exists(working_d):\n",
    "    shutil.rmtree(working_d)\n",
    "shutil.copytree(tmp_d,working_d)\n",
    "pyemu.os_utils.run('pestpp-glm freyberg.modlam.pst', cwd=working_d)"
   ]
  },
  {
   "cell_type": "code",
   "execution_count": null,
   "metadata": {},
   "outputs": [],
   "source": [
    "fig, ax, resp_surf = resurf.plot_response_surface(figsize=(7,7),WORKING_DIR=bal_respsurf_d) #maxresp=1e3,\n",
    "pars, obfun = resurf.add_trajectory_to_plot(fig, ax, 'Trajectory with moderate $\\\\lambda$', pst_name='freyberg.modlam.pst',working_dir=working_d)"
   ]
  },
  {
   "cell_type": "code",
   "execution_count": null,
   "metadata": {},
   "outputs": [],
   "source": [
    "df_obj = pd.read_csv(os.path.join(working_d, \"freyberg.modlam.iobj\"), index_col=0)\n",
    "df_obj.loc[:,[\"total_phi\",\"model_runs_completed\"]].plot(subplots=True, marker='x')"
   ]
  },
  {
   "cell_type": "markdown",
   "metadata": {},
   "source": [
    "### Large Lambda"
   ]
  },
  {
   "cell_type": "code",
   "execution_count": null,
   "metadata": {},
   "outputs": [],
   "source": [
    "# set a large lambda value\n",
    "pst.pestpp_options['lambdas']=7000.0\n",
    "pst.pestpp_options['lambda_scale_fac']=1.0\n",
    "pst.pestpp_options['upgrade_augment']='False'\n",
    "\n",
    "pst.write(os.path.join(tmp_d, 'freyberg.largelam.pst'),version=2)\n",
    "working_d = \"glm_largelam\"\n",
    "\n",
    "\n",
    "if os.path.exists(working_d):\n",
    "    shutil.rmtree(working_d)\n",
    "shutil.copytree(tmp_d,working_d)\n",
    "pyemu.os_utils.run('pestpp-glm freyberg.largelam.pst', cwd=working_d)"
   ]
  },
  {
   "cell_type": "code",
   "execution_count": null,
   "metadata": {},
   "outputs": [],
   "source": [
    "fig, ax, resp_surf = resurf.plot_response_surface(figsize=(7,7),WORKING_DIR=bal_respsurf_d) #maxresp=1e3,\n",
    "pars, obfun = resurf.add_trajectory_to_plot(fig, ax, 'Trajectory with large $\\\\lambda$', pst_name='freyberg.largelam.pst',working_dir=working_d)"
   ]
  },
  {
   "cell_type": "code",
   "execution_count": null,
   "metadata": {},
   "outputs": [],
   "source": [
    "df_obj = pd.read_csv(os.path.join(working_d, \"freyberg.largelam.iobj\"), index_col=0)\n",
    "df_obj.loc[:,[\"total_phi\",\"model_runs_completed\"]].plot(subplots=True, marker='x')"
   ]
  },
  {
   "cell_type": "markdown",
   "metadata": {},
   "source": [
    "### Normal PEST(++) Behaviour\n",
    "\n",
    "In practice, PEST and PEST++ can search for the optimal parameter upgrade vector at each iteration. PEST(++) calculates upgrade vectors, each based on a different value of lambda. The one which results in the largest objective function decrease is used to calculate parameters for the next iteration. "
   ]
  },
  {
   "cell_type": "code",
   "execution_count": null,
   "metadata": {},
   "outputs": [],
   "source": [
    "pst.pestpp_options['lambdas']= [0.1, 1, 10,100]\n",
    "pst.pestpp_options['lambda_scale_fac']=[0.9, 0.8, 0.7, 0.5]\n",
    "pst.pestpp_options['upgrade_augment']='True'\n",
    "\n",
    "pst.write(os.path.join(tmp_d, 'freyberg.testlam.pst'),version=2)\n",
    "working_d = \"glm_testlam\"\n",
    "\n",
    "if os.path.exists(working_d):\n",
    "    shutil.rmtree(working_d)\n",
    "shutil.copytree(tmp_d,working_d)\n",
    "pyemu.os_utils.run('pestpp-glm freyberg.testlam.pst', cwd=working_d)"
   ]
  },
  {
   "cell_type": "code",
   "execution_count": null,
   "metadata": {},
   "outputs": [],
   "source": [
    "fig, ax, resp_surf = resurf.plot_response_surface(figsize=(7,7),WORKING_DIR=bal_respsurf_d) #maxresp=1e3,\n",
    "pars, obfun = resurf.add_trajectory_to_plot(fig, ax, 'Trajectory with multiple $\\\\lambda$ values tested and automatic $\\\\lambda$ tuning', pst_name='freyberg.testlam.pst',working_dir=working_d)"
   ]
  },
  {
   "cell_type": "code",
   "execution_count": null,
   "metadata": {},
   "outputs": [],
   "source": [
    "df_obj = pd.read_csv(os.path.join(working_d, \"freyberg.testlam.iobj\"), index_col=0)\n",
    "df_obj.loc[:,[\"total_phi\",\"model_runs_completed\"]].plot(subplots=True, marker='x')"
   ]
  },
  {
   "cell_type": "code",
   "execution_count": null,
   "metadata": {},
   "outputs": [],
   "source": [
    "fig,axes = plt.subplots(2,2,figsize=(8.5,8.5))\n",
    "axes = axes.flatten()\n",
    "_ = resurf.plot_response_surface(WORKING_DIR=bal_respsurf_d,ax=axes[0]) \n",
    "\n",
    "df_obj_nolam = pd.read_csv(os.path.join(\"glm_nolam\", \"freyberg.nolam.iobj\"))\n",
    "pars, obfun = resurf.add_trajectory_to_plot(fig, axes[0], 'A) Trajectory with no $\\\\lambda$\\n({0} iterations)'.\\\n",
    "                                            format(df_obj_nolam.iteration.max()), pst_name='freyberg.nolam.pst',working_dir=\"glm_nolam\")\n",
    "\n",
    "_ = resurf.plot_response_surface(WORKING_DIR=bal_respsurf_d,ax=axes[1])\n",
    "df_obj_modlam = pd.read_csv(os.path.join(\"glm_modlam\", \"freyberg.modlam.iobj\"))\n",
    "pars, obfun = resurf.add_trajectory_to_plot(fig, axes[1], 'B) Trajectory with moderate $\\\\lambda$\\n({0} iterations)'.\\\n",
    "                                            format(df_obj_modlam.iteration.max()), pst_name='freyberg.modlam.pst',working_dir=\"glm_modlam\")\n",
    "\n",
    "_ = resurf.plot_response_surface(figsize=(7,7),WORKING_DIR=bal_respsurf_d,ax=axes[2])\n",
    "df_obj_largelam = pd.read_csv(os.path.join(\"glm_largelam\", \"freyberg.largelam.iobj\"))\n",
    "pars, obfun = resurf.add_trajectory_to_plot(fig, axes[2], 'C) Trajectory with large $\\\\lambda$\\n({0} iterations)'.\\\n",
    "                                            format(df_obj_largelam.iteration.max()), pst_name='freyberg.largelam.pst',working_dir=\"glm_largelam\")\n",
    "\n",
    "_ = resurf.plot_response_surface(figsize=(7,7),WORKING_DIR=bal_respsurf_d,ax=axes[3])\n",
    "df_obj_testlam = pd.read_csv(os.path.join(\"glm_testlam\", \"freyberg.testlam.iobj\"))\n",
    "pars, obfun = resurf.add_trajectory_to_plot(fig, axes[3], 'D) Trajectory with $\\\\lambda$ testing and tuning\\n({0} iterations)'.\\\n",
    "                                            format(df_obj_testlam.iteration.max()), pst_name='freyberg.testlam.pst',working_dir=\"glm_testlam\")\n",
    "\n",
    "\n",
    "plt.tight_layout()\n",
    "plt.savefig(\"respsurf_traj_combined.pdf\")\n",
    "plt.show()\n",
    "plt.close(fig)"
   ]
  },
  {
   "cell_type": "code",
   "execution_count": null,
   "metadata": {},
   "outputs": [],
   "source": [
    "fig,ax = plt.subplots(1,1,figsize=(8.5,4))\n",
    "labels = [\"Trajectory with no $\\\\lambda$\",'Trajectory with moderate $\\\\lambda$',\"Trajectory with large $\\\\lambda$\", 'Trajectory with $\\\\lambda$ testing and tuning']\n",
    "for df,label in zip([df_obj_nolam,df_obj_modlam,df_obj_largelam,df_obj_testlam],labels):\n",
    "    ax.plot(df.iteration+1,df.total_phi,label=label,marker=\".\")\n",
    "ax.set_yscale(\"log\")\n",
    "ax.set_xscale(\"log\")\n",
    "ax.set_xlabel(\"iteration\")\n",
    "ax.set_ylabel(\"$\\\\Phi$\")\n",
    "ax.legend(loc=\"upper right\")\n",
    "plt.tight_layout()\n",
    "plt.savefig(\"phi_history.pdf\")\n",
    "plt.show()\n",
    "plt.close(fig)"
   ]
  },
  {
   "cell_type": "code",
   "execution_count": null,
   "metadata": {},
   "outputs": [],
   "source": []
  }
 ],
 "metadata": {
  "kernelspec": {
   "display_name": "Python 3 (ipykernel)",
   "language": "python",
   "name": "python3"
  },
  "language_info": {
   "codemirror_mode": {
    "name": "ipython",
    "version": 3
   },
   "file_extension": ".py",
   "mimetype": "text/x-python",
   "name": "python",
   "nbconvert_exporter": "python",
   "pygments_lexer": "ipython3",
   "version": "3.11.13"
  }
 },
 "nbformat": 4,
 "nbformat_minor": 4
}
